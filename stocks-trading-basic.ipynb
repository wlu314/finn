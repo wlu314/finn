{
 "cells": [
  {
   "cell_type": "markdown",
   "metadata": {},
   "source": [
    "# Alpaca-py stock trading basic"
   ]
  },
  {
   "cell_type": "markdown",
   "metadata": {},
   "source": [
    "[![Open In Colab](https://colab.research.google.com/assets/colab-badge.svg)](https://colab.research.google.com/github/alpacahq/alpaca-py/blob/master/examples/stocks-trading-basic.ipynb)"
   ]
  },
  {
   "cell_type": "markdown",
   "metadata": {},
   "source": [
    "- This notebook shows how to use alpaca-py with stock trading API endpoints\n",
    "- Please use ``paper account``. Please ``DO NOT`` use this notebook with live account. In this notebook, we place orders for stocks as an example."
   ]
  },
  {
   "cell_type": "code",
   "execution_count": 2,
   "metadata": {
    "jupyter": {
     "is_executing": true
    }
   },
   "outputs": [],
   "source": [
    "# Please change the following to your own PAPER api key and secret\n",
    "# or set them as environment variables (ALPACA_API_KEY, ALPACA_SECRET_KEY).\n",
    "# You can get them from https://alpaca.markets/\n",
    "\n",
    "api_key = \"PKNRH9L92VEW8DVT325S\"\n",
    "secret_key = \"W70AfB4bA1sn7SczpahYL9qFVm9rPfZeXyhObG7Y\"\n",
    "\n",
    "\n",
    "#### We use paper environment for this example ####\n",
    "paper = True # Please do not modify this. This example is for paper trading only.\n",
    "####\n",
    "\n",
    "# Below are the variables for development this documents\n",
    "# Please do not change these variables\n",
    "trade_api_url = None\n",
    "trade_api_wss = None\n",
    "data_api_url = None\n",
    "stream_data_wss = None"
   ]
  },
  {
   "cell_type": "code",
   "execution_count": 3,
   "metadata": {},
   "outputs": [],
   "source": [
    "import os\n",
    "\n",
    "if api_key is None:\n",
    "    api_key = os.environ.get('ALPACA_API_KEY')\n",
    "\n",
    "if secret_key is None:\n",
    "    secret_key = os.environ.get('ALPACA_SECRET_KEY')"
   ]
  },
  {
   "cell_type": "code",
   "execution_count": 4,
   "metadata": {},
   "outputs": [],
   "source": [
    "# install alpaca-py if it is not available\n",
    "try:\n",
    "    import alpaca\n",
    "except ImportError:\n",
    "    !python3 -m pip install alpaca-py\n",
    "    import alpaca"
   ]
  },
  {
   "cell_type": "code",
   "execution_count": 5,
   "metadata": {},
   "outputs": [],
   "source": [
    "from datetime import datetime, timedelta\n",
    "from zoneinfo import ZoneInfo\n",
    "\n",
    "from alpaca.trading.client import TradingClient\n",
    "from alpaca.data.timeframe import TimeFrame, TimeFrameUnit\n",
    "from alpaca.data.historical.corporate_actions import CorporateActionsClient\n",
    "from alpaca.data.historical.stock import StockHistoricalDataClient\n",
    "from alpaca.trading.stream import TradingStream\n",
    "from alpaca.data.live.stock import StockDataStream\n",
    "\n",
    "from alpaca.data.requests import (\n",
    "    CorporateActionsRequest,\n",
    "    StockBarsRequest,\n",
    "    StockQuotesRequest,\n",
    "    StockTradesRequest,\n",
    ")\n",
    "from alpaca.trading.requests import (\n",
    "    ClosePositionRequest,\n",
    "    GetAssetsRequest,\n",
    "    GetOrdersRequest,\n",
    "    LimitOrderRequest,\n",
    "    MarketOrderRequest,\n",
    "    StopLimitOrderRequest,\n",
    "    StopLossRequest,\n",
    "    StopOrderRequest,\n",
    "    TakeProfitRequest,\n",
    "    TrailingStopOrderRequest,\n",
    ")\n",
    "from alpaca.trading.enums import (\n",
    "    AssetExchange,\n",
    "    AssetStatus,\n",
    "    OrderClass,\n",
    "    OrderSide,\n",
    "    OrderType,\n",
    "    QueryOrderStatus,\n",
    "    TimeInForce,\n",
    ")"
   ]
  },
  {
   "cell_type": "code",
   "execution_count": 6,
   "metadata": {},
   "outputs": [],
   "source": [
    "# to run async code in jupyter notebook\n",
    "import nest_asyncio\n",
    "nest_asyncio.apply()"
   ]
  },
  {
   "cell_type": "code",
   "execution_count": 7,
   "metadata": {},
   "outputs": [
    {
     "data": {
      "text/plain": [
       "'0.38.0'"
      ]
     },
     "execution_count": 7,
     "metadata": {},
     "output_type": "execute_result"
    }
   ],
   "source": [
    "# check version of alpaca-py\n",
    "alpaca.__version__"
   ]
  },
  {
   "cell_type": "markdown",
   "metadata": {},
   "source": [
    "# Trading Client"
   ]
  },
  {
   "cell_type": "code",
   "execution_count": 8,
   "metadata": {},
   "outputs": [],
   "source": [
    "# setup clients\n",
    "trade_client = TradingClient(api_key=api_key, secret_key=secret_key, paper=paper, url_override=trade_api_url)"
   ]
  },
  {
   "cell_type": "code",
   "execution_count": 9,
   "metadata": {},
   "outputs": [
    {
     "data": {
      "text/plain": [
       "{   'account_blocked': False,\n",
       "    'account_number': 'PA3YY3DXXCYD',\n",
       "    'accrued_fees': '0',\n",
       "    'buying_power': '200000',\n",
       "    'cash': '100000',\n",
       "    'created_at': datetime.datetime(2023, 10, 16, 16, 28, 52, 995578, tzinfo=TzInfo(UTC)),\n",
       "    'crypto_status': <AccountStatus.ACTIVE: 'ACTIVE'>,\n",
       "    'currency': 'USD',\n",
       "    'daytrade_count': 0,\n",
       "    'daytrading_buying_power': '0',\n",
       "    'equity': '100000',\n",
       "    'id': UUID('e6b13d20-7199-45ad-9703-7b65a6b42aaa'),\n",
       "    'initial_margin': '0',\n",
       "    'last_equity': '100000',\n",
       "    'last_maintenance_margin': '0',\n",
       "    'long_market_value': '0',\n",
       "    'maintenance_margin': '0',\n",
       "    'multiplier': '2',\n",
       "    'non_marginable_buying_power': '100000',\n",
       "    'options_approved_level': 3,\n",
       "    'options_buying_power': '100000',\n",
       "    'options_trading_level': 3,\n",
       "    'pattern_day_trader': False,\n",
       "    'pending_transfer_in': None,\n",
       "    'pending_transfer_out': None,\n",
       "    'portfolio_value': '100000',\n",
       "    'regt_buying_power': '200000',\n",
       "    'short_market_value': '0',\n",
       "    'shorting_enabled': True,\n",
       "    'sma': '0',\n",
       "    'status': <AccountStatus.ACTIVE: 'ACTIVE'>,\n",
       "    'trade_suspended_by_user': False,\n",
       "    'trading_blocked': False,\n",
       "    'transfers_blocked': False}"
      ]
     },
     "execution_count": 9,
     "metadata": {},
     "output_type": "execute_result"
    }
   ],
   "source": [
    "# check trading account\n",
    "# You can check definition of each field in the following documents\n",
    "# ref. https://docs.alpaca.markets/docs/account-plans\n",
    "# ref. https://docs.alpaca.markets/reference/getaccount-1\n",
    "acct = trade_client.get_account()\n",
    "acct"
   ]
  },
  {
   "cell_type": "code",
   "execution_count": 10,
   "metadata": {},
   "outputs": [
    {
     "data": {
      "text/plain": [
       "{   'dtbp_check': <DTBPCheck.ENTRY: 'entry'>,\n",
       "    'fractional_trading': True,\n",
       "    'max_margin_multiplier': '4',\n",
       "    'max_options_trading_level': None,\n",
       "    'no_shorting': False,\n",
       "    'pdt_check': <PDTCheck.ENTRY: 'entry'>,\n",
       "    'ptp_no_exception_entry': False,\n",
       "    'suspend_trade': False,\n",
       "    'trade_confirm_email': <TradeConfirmationEmail.ALL: 'all'>}"
      ]
     },
     "execution_count": 10,
     "metadata": {},
     "output_type": "execute_result"
    }
   ],
   "source": [
    "# check account configuration\n",
    "# ref. https://docs.alpaca.markets/reference/getaccountconfig-1\n",
    "acct_config = trade_client.get_account_configurations()\n",
    "acct_config"
   ]
  },
  {
   "cell_type": "code",
   "execution_count": 11,
   "metadata": {},
   "outputs": [
    {
     "data": {
      "text/plain": [
       "{   'dtbp_check': <DTBPCheck.ENTRY: 'entry'>,\n",
       "    'fractional_trading': False,\n",
       "    'max_margin_multiplier': '4',\n",
       "    'max_options_trading_level': None,\n",
       "    'no_shorting': False,\n",
       "    'pdt_check': <PDTCheck.ENTRY: 'entry'>,\n",
       "    'ptp_no_exception_entry': False,\n",
       "    'suspend_trade': False,\n",
       "    'trade_confirm_email': <TradeConfirmationEmail.ALL: 'all'>}"
      ]
     },
     "metadata": {},
     "output_type": "display_data"
    },
    {
     "data": {
      "text/plain": [
       "{   'dtbp_check': <DTBPCheck.ENTRY: 'entry'>,\n",
       "    'fractional_trading': True,\n",
       "    'max_margin_multiplier': '4',\n",
       "    'max_options_trading_level': None,\n",
       "    'no_shorting': False,\n",
       "    'pdt_check': <PDTCheck.ENTRY: 'entry'>,\n",
       "    'ptp_no_exception_entry': False,\n",
       "    'suspend_trade': False,\n",
       "    'trade_confirm_email': <TradeConfirmationEmail.ALL: 'all'>}"
      ]
     },
     "metadata": {},
     "output_type": "display_data"
    }
   ],
   "source": [
    "# set account configuration\n",
    "# ref. https://docs.alpaca.markets/reference/patchaccountconfig-1\n",
    "req = acct_config\n",
    "req.fractional_trading = not req.fractional_trading # toggle fractional trading\n",
    "acct_config_new = trade_client.set_account_configurations(req)\n",
    "display(acct_config_new)\n",
    "\n",
    "# revert changes\n",
    "req = acct_config_new\n",
    "req.fractional_trading = not req.fractional_trading # toggle fractional trading\n",
    "acct_config_reverted = trade_client.set_account_configurations(req)\n",
    "display(acct_config_reverted)"
   ]
  },
  {
   "cell_type": "code",
   "execution_count": 12,
   "metadata": {},
   "outputs": [
    {
     "data": {
      "text/plain": [
       "[{   'asset_class': <AssetClass.US_EQUITY: 'us_equity'>,\n",
       "     'attributes': [],\n",
       "     'easy_to_borrow': False,\n",
       "     'exchange': <AssetExchange.NASDAQ: 'NASDAQ'>,\n",
       "     'fractionable': False,\n",
       "     'id': UUID('88fe0702-4afc-42c5-b8ac-9bccc72c42ac'),\n",
       "     'maintenance_margin_requirement': 100.0,\n",
       "     'marginable': False,\n",
       "     'min_order_size': None,\n",
       "     'min_trade_increment': None,\n",
       "     'name': 'Top KingWin Ltd Class A Ordinary Shares',\n",
       "     'price_increment': None,\n",
       "     'shortable': False,\n",
       "     'status': <AssetStatus.ACTIVE: 'active'>,\n",
       "     'symbol': 'WAI',\n",
       "     'tradable': False},\n",
       " {   'asset_class': <AssetClass.US_EQUITY: 'us_equity'>,\n",
       "     'attributes': ['has_options'],\n",
       "     'easy_to_borrow': False,\n",
       "     'exchange': <AssetExchange.NASDAQ: 'NASDAQ'>,\n",
       "     'fractionable': False,\n",
       "     'id': UUID('cc492b87-aff1-442a-99bb-e4e638dd6e98'),\n",
       "     'maintenance_margin_requirement': 100.0,\n",
       "     'marginable': False,\n",
       "     'min_order_size': None,\n",
       "     'min_trade_increment': None,\n",
       "     'name': 'U Power Limited Class A Ordinary Shares',\n",
       "     'price_increment': None,\n",
       "     'shortable': False,\n",
       "     'status': <AssetStatus.ACTIVE: 'active'>,\n",
       "     'symbol': 'UCAR',\n",
       "     'tradable': False}]"
      ]
     },
     "execution_count": 12,
     "metadata": {},
     "output_type": "execute_result"
    }
   ],
   "source": [
    "# get list of assets which are us_equity (default), active, and in NASDAQ\n",
    "# ref. https://docs.alpaca.markets/reference/get-v2-assets-1\n",
    "req = GetAssetsRequest(\n",
    "  # asset_class=AssetClass.US_EQUITY,  # default asset_class is us_equity\n",
    "  status=AssetStatus.ACTIVE,\n",
    "  exchange=AssetExchange.NASDAQ,\n",
    ")\n",
    "assets = trade_client.get_all_assets(req)\n",
    "assets[:2]"
   ]
  },
  {
   "cell_type": "markdown",
   "metadata": {},
   "source": [
    "### Orders"
   ]
  },
  {
   "cell_type": "code",
   "execution_count": 13,
   "metadata": {},
   "outputs": [],
   "source": [
    "# we will place orders which Alapca trading platform supports\n",
    "# - order classes: simple, bracket, oco, oto\n",
    "# - order types: market, limit, stop, stop_limit, trailing_stop\n",
    "#\n",
    "# please refer to the following documents for more details\n",
    "# ref. https://docs.alpaca.markets/docs/orders-at-alpaca\n",
    "# ref. https://docs.alpaca.markets/reference/postorder\n",
    "#\n",
    "# we will also use fractional trading capability of Alpaca trading platform in this example\n",
    "# ref. https://docs.alpaca.markets/docs/fractional-trading\n",
    "\n",
    "# we will place orders for symbol: SPY in this example\n",
    "symbol = \"SPY\""
   ]
  },
  {
   "cell_type": "code",
   "execution_count": 14,
   "metadata": {},
   "outputs": [
    {
     "data": {
      "text/plain": [
       "{   'asset_class': <AssetClass.US_EQUITY: 'us_equity'>,\n",
       "    'asset_id': UUID('b28f4066-5c6d-479b-a2af-85dc1a8f16fb'),\n",
       "    'canceled_at': None,\n",
       "    'client_order_id': '880d72d0-b1db-4d36-83e7-74aaa55fa4f3',\n",
       "    'created_at': datetime.datetime(2025, 2, 9, 2, 23, 28, 973058, tzinfo=TzInfo(UTC)),\n",
       "    'expired_at': None,\n",
       "    'expires_at': datetime.datetime(2025, 2, 10, 21, 0, tzinfo=TzInfo(UTC)),\n",
       "    'extended_hours': False,\n",
       "    'failed_at': None,\n",
       "    'filled_at': None,\n",
       "    'filled_avg_price': None,\n",
       "    'filled_qty': '0',\n",
       "    'hwm': None,\n",
       "    'id': UUID('c487e502-80be-410a-bf79-10f6b3c4f448'),\n",
       "    'legs': None,\n",
       "    'limit_price': None,\n",
       "    'notional': None,\n",
       "    'order_class': <OrderClass.SIMPLE: 'simple'>,\n",
       "    'order_type': <OrderType.MARKET: 'market'>,\n",
       "    'position_intent': <PositionIntent.BUY_TO_OPEN: 'buy_to_open'>,\n",
       "    'qty': '0.1',\n",
       "    'ratio_qty': None,\n",
       "    'replaced_at': None,\n",
       "    'replaced_by': None,\n",
       "    'replaces': None,\n",
       "    'side': <OrderSide.BUY: 'buy'>,\n",
       "    'status': <OrderStatus.ACCEPTED: 'accepted'>,\n",
       "    'stop_price': None,\n",
       "    'submitted_at': datetime.datetime(2025, 2, 9, 2, 23, 28, 973058, tzinfo=TzInfo(UTC)),\n",
       "    'symbol': 'SPY',\n",
       "    'time_in_force': <TimeInForce.DAY: 'day'>,\n",
       "    'trail_percent': None,\n",
       "    'trail_price': None,\n",
       "    'type': <OrderType.MARKET: 'market'>,\n",
       "    'updated_at': datetime.datetime(2025, 2, 9, 2, 23, 28, 973494, tzinfo=TzInfo(UTC))}"
      ]
     },
     "execution_count": 14,
     "metadata": {},
     "output_type": "execute_result"
    }
   ],
   "source": [
    "# simple, market order, fractional qty\n",
    "# Alpaca trading platform support fractional trading by default\n",
    "# you can specify:\n",
    "# fractional qty (e.g. 0.01 qty) in the order request (which is shown in this example)\n",
    "# or notional value (e.g. 100 USD) (which is in the next example)\n",
    "#\n",
    "# If you have an error of `qty must be integer`,\n",
    "# please try to `Reset Account` of your paper account via the Alpaca Trading API dashboard\n",
    "req = MarketOrderRequest(\n",
    "    symbol = symbol,\n",
    "    qty = 0.1,\n",
    "    side = OrderSide.BUY,\n",
    "    type = OrderType.MARKET,\n",
    "    time_in_force = TimeInForce.DAY,\n",
    ")\n",
    "res = trade_client.submit_order(req)\n",
    "res"
   ]
  },
  {
   "cell_type": "code",
   "execution_count": 47,
   "metadata": {},
   "outputs": [
    {
     "data": {
      "text/plain": [
       "{   'asset_class': <AssetClass.US_EQUITY: 'us_equity'>,\n",
       "    'asset_id': UUID('b28f4066-5c6d-479b-a2af-85dc1a8f16fb'),\n",
       "    'canceled_at': None,\n",
       "    'client_order_id': 'ba2804ad-cf29-4011-8f65-3d2f30b7e73c',\n",
       "    'created_at': datetime.datetime(2025, 2, 8, 22, 37, 59, 980565, tzinfo=TzInfo(UTC)),\n",
       "    'expired_at': None,\n",
       "    'expires_at': datetime.datetime(2025, 2, 10, 21, 0, tzinfo=TzInfo(UTC)),\n",
       "    'extended_hours': False,\n",
       "    'failed_at': None,\n",
       "    'filled_at': None,\n",
       "    'filled_avg_price': None,\n",
       "    'filled_qty': '0',\n",
       "    'hwm': None,\n",
       "    'id': UUID('af30e583-5b7c-49e6-8e5e-e567fc073830'),\n",
       "    'legs': None,\n",
       "    'limit_price': None,\n",
       "    'notional': '1.11',\n",
       "    'order_class': <OrderClass.SIMPLE: 'simple'>,\n",
       "    'order_type': <OrderType.MARKET: 'market'>,\n",
       "    'position_intent': <PositionIntent.BUY_TO_OPEN: 'buy_to_open'>,\n",
       "    'qty': None,\n",
       "    'ratio_qty': None,\n",
       "    'replaced_at': None,\n",
       "    'replaced_by': None,\n",
       "    'replaces': None,\n",
       "    'side': <OrderSide.BUY: 'buy'>,\n",
       "    'status': <OrderStatus.ACCEPTED: 'accepted'>,\n",
       "    'stop_price': None,\n",
       "    'submitted_at': datetime.datetime(2025, 2, 8, 22, 37, 59, 980565, tzinfo=TzInfo(UTC)),\n",
       "    'symbol': 'SPY',\n",
       "    'time_in_force': <TimeInForce.DAY: 'day'>,\n",
       "    'trail_percent': None,\n",
       "    'trail_price': None,\n",
       "    'type': <OrderType.MARKET: 'market'>,\n",
       "    'updated_at': datetime.datetime(2025, 2, 8, 22, 37, 59, 980955, tzinfo=TzInfo(UTC))}"
      ]
     },
     "execution_count": 47,
     "metadata": {},
     "output_type": "execute_result"
    }
   ],
   "source": [
    "# simple, market order, notional\n",
    "# Alpaca trading platform support fractional trading by default\n",
    "# you can specify:\n",
    "# fractional qty (e.g. 0.01 qty) in the order request (which is in the example above)\n",
    "# or notional value (e.g. 100 USD) (which is in this example)\n",
    "req = MarketOrderRequest(\n",
    "    symbol = symbol,\n",
    "    notional = 1.11,  # notional is specified in USD, here we specify $1.11\n",
    "    side = OrderSide.BUY,\n",
    "    type = OrderType.MARKET,\n",
    "    time_in_force = TimeInForce.DAY,\n",
    ")\n",
    "res = trade_client.submit_order(req)\n",
    "res"
   ]
  },
  {
   "cell_type": "code",
   "execution_count": null,
   "metadata": {},
   "outputs": [],
   "source": [
    "# simple, limit order, fractional qty\n",
    "req = LimitOrderRequest(\n",
    "    symbol = symbol,\n",
    "    qty = 0.01,\n",
    "    limit_price = 550.25,\n",
    "    side = OrderSide.BUY,\n",
    "    type = OrderType.LIMIT,\n",
    "    time_in_force = TimeInForce.DAY,\n",
    ")\n",
    "res = trade_client.submit_order(req)\n",
    "res"
   ]
  },
  {
   "cell_type": "code",
   "execution_count": null,
   "metadata": {},
   "outputs": [],
   "source": [
    "# stop order\n",
    "req = StopOrderRequest(\n",
    "                    symbol = symbol,\n",
    "                    qty = 1,\n",
    "                    side = OrderSide.BUY,\n",
    "                    time_in_force = TimeInForce.GTC,\n",
    "                    stop_price = 600\n",
    "                    )\n",
    "\n",
    "res = trade_client.submit_order(req)\n",
    "res"
   ]
  },
  {
   "cell_type": "code",
   "execution_count": null,
   "metadata": {},
   "outputs": [],
   "source": [
    "# stop limit order\n",
    "req = StopLimitOrderRequest(\n",
    "                    symbol = symbol,\n",
    "                    qty = 1,\n",
    "                    side = OrderSide.BUY,\n",
    "                    time_in_force = TimeInForce.GTC,\n",
    "                    limit_price = 550,\n",
    "                    stop_price = 600\n",
    "                    )\n",
    "\n",
    "res = trade_client.submit_order(req)\n",
    "res"
   ]
  },
  {
   "cell_type": "code",
   "execution_count": 1,
   "metadata": {},
   "outputs": [
    {
     "ename": "NameError",
     "evalue": "name 'MarketOrderRequest' is not defined",
     "output_type": "error",
     "traceback": [
      "\u001b[0;31m---------------------------------------------------------------------------\u001b[0m",
      "\u001b[0;31mNameError\u001b[0m                                 Traceback (most recent call last)",
      "Cell \u001b[0;32mIn[1], line 2\u001b[0m\n\u001b[1;32m      1\u001b[0m \u001b[38;5;66;03m# bracket order with both stop loss and take profit\u001b[39;00m\n\u001b[0;32m----> 2\u001b[0m req \u001b[38;5;241m=\u001b[39m MarketOrderRequest(\n\u001b[1;32m      3\u001b[0m                     symbol \u001b[38;5;241m=\u001b[39m symbol,\n\u001b[1;32m      4\u001b[0m                     qty \u001b[38;5;241m=\u001b[39m \u001b[38;5;241m5\u001b[39m,\n\u001b[1;32m      5\u001b[0m                     side \u001b[38;5;241m=\u001b[39m OrderSide\u001b[38;5;241m.\u001b[39mBUY,\n\u001b[1;32m      6\u001b[0m                     time_in_force \u001b[38;5;241m=\u001b[39m TimeInForce\u001b[38;5;241m.\u001b[39mDAY,\n\u001b[1;32m      7\u001b[0m                     order_class \u001b[38;5;241m=\u001b[39m OrderClass\u001b[38;5;241m.\u001b[39mBRACKET,\n\u001b[1;32m      8\u001b[0m                     take_profit \u001b[38;5;241m=\u001b[39m TakeProfitRequest(limit_price\u001b[38;5;241m=\u001b[39m\u001b[38;5;241m600\u001b[39m),\n\u001b[1;32m      9\u001b[0m                     stop_loss \u001b[38;5;241m=\u001b[39m StopLossRequest(stop_price\u001b[38;5;241m=\u001b[39m\u001b[38;5;241m300\u001b[39m)\n\u001b[1;32m     10\u001b[0m )\n\u001b[1;32m     11\u001b[0m res \u001b[38;5;241m=\u001b[39m trade_client\u001b[38;5;241m.\u001b[39msubmit_order(req)\n\u001b[1;32m     12\u001b[0m res\n",
      "\u001b[0;31mNameError\u001b[0m: name 'MarketOrderRequest' is not defined"
     ]
    }
   ],
   "source": [
    "# bracket order with both stop loss and take profit\n",
    "req = MarketOrderRequest(\n",
    "                    symbol = symbol,\n",
    "                    qty = 5,\n",
    "                    side = OrderSide.BUY,\n",
    "                    time_in_force = TimeInForce.DAY,\n",
    "                    order_class = OrderClass.BRACKET,\n",
    "                    take_profit = TakeProfitRequest(limit_price=600),\n",
    "                    stop_loss = StopLossRequest(stop_price=300)\n",
    ")\n",
    "res = trade_client.submit_order(req)\n",
    "res"
   ]
  },
  {
   "cell_type": "code",
   "execution_count": null,
   "metadata": {},
   "outputs": [],
   "source": [
    "# oto order with stop loss\n",
    "req = LimitOrderRequest(\n",
    "                    symbol = symbol,\n",
    "                    qty = 1,\n",
    "                    limit_price = 500,\n",
    "                    side = OrderSide.BUY,\n",
    "                    time_in_force = TimeInForce.DAY,\n",
    "                    Class = OrderClass.OTO,\n",
    "                    stop_loss = StopLossRequest(stop_price = 300)\n",
    "                    )\n",
    "\n",
    "res = trade_client.submit_order(req)\n",
    "res"
   ]
  },
  {
   "cell_type": "code",
   "execution_count": null,
   "metadata": {},
   "outputs": [],
   "source": [
    "# oco limit order\n",
    "req = LimitOrderRequest(\n",
    "                    symbol = symbol,\n",
    "                    qty = 1,\n",
    "                    limit_price = 500,\n",
    "                    side = OrderSide.BUY,\n",
    "                    time_in_force = TimeInForce.DAY,\n",
    "                    Class = OrderClass.OCO\n",
    "                    )\n",
    "\n",
    "res = trade_client.submit_order(req)\n",
    "res"
   ]
  },
  {
   "cell_type": "code",
   "execution_count": null,
   "metadata": {},
   "outputs": [],
   "source": [
    "# trailing stop order\n",
    "req = TrailingStopOrderRequest(\n",
    "                    symbol = symbol,\n",
    "                    qty = 1,\n",
    "                    side = OrderSide.SELL,\n",
    "                    time_in_force = TimeInForce.GTC,\n",
    "                    trail_percent = 0.20 # you can also use trail_price instead of trail_percent\n",
    "                    )\n",
    "\n",
    "res = trade_client.submit_order(req)\n",
    "res"
   ]
  },
  {
   "cell_type": "code",
   "execution_count": null,
   "metadata": {},
   "outputs": [],
   "source": [
    "# get a list of orders including closed (e.g. filled) orders by specifying symbol\n",
    "req = GetOrdersRequest(\n",
    "    status = QueryOrderStatus.ALL,\n",
    "    symbols = [symbol]\n",
    ")\n",
    "orders = trade_client.get_orders(req)\n",
    "orders"
   ]
  },
  {
   "cell_type": "code",
   "execution_count": null,
   "metadata": {},
   "outputs": [],
   "source": [
    "# see all open orders\n",
    "req = GetOrdersRequest(\n",
    "    status = QueryOrderStatus.OPEN,\n",
    "    symbols = [symbol]\n",
    ")\n",
    "open_orders = trade_client.get_orders(req)\n",
    "open_orders"
   ]
  },
  {
   "cell_type": "code",
   "execution_count": null,
   "metadata": {},
   "outputs": [],
   "source": [
    "# cancel all open orders\n",
    "trade_client.cancel_orders()"
   ]
  },
  {
   "cell_type": "markdown",
   "metadata": {},
   "source": [
    "### Positions"
   ]
  },
  {
   "cell_type": "code",
   "execution_count": null,
   "metadata": {},
   "outputs": [],
   "source": [
    "# get all open positions\n",
    "# ref. https://docs.alpaca.markets/reference/getallopenpositions-1\n",
    "positions = trade_client.get_all_positions()\n",
    "positions"
   ]
  },
  {
   "cell_type": "code",
   "execution_count": null,
   "metadata": {},
   "outputs": [],
   "source": [
    "# get positions by symbol\n",
    "# ref. https://docs.alpaca.markets/reference/getopenposition-1\n",
    "position = trade_client.get_open_position(symbol_or_asset_id=symbol)\n",
    "position\n"
   ]
  },
  {
   "cell_type": "code",
   "execution_count": null,
   "metadata": {},
   "outputs": [],
   "source": [
    "# get positions by asset_id\n",
    "trade_client.get_open_position(symbol_or_asset_id=position.asset_id)"
   ]
  },
  {
   "cell_type": "code",
   "execution_count": null,
   "metadata": {},
   "outputs": [],
   "source": [
    "# close the position with specifying qty\n",
    "# ref. https://docs.alpaca.markets/reference/deleteopenposition-1\n",
    "trade_client.close_position(\n",
    "    symbol_or_asset_id = symbol,\n",
    "    close_options = ClosePositionRequest(\n",
    "        qty = \"0.01\",\n",
    "    )\n",
    ")"
   ]
  },
  {
   "cell_type": "markdown",
   "metadata": {},
   "source": [
    "# Trade Update (Stream)"
   ]
  },
  {
   "cell_type": "markdown",
   "metadata": {},
   "source": [
    "With TradingStream client, you can get updates about trades\n",
    "\n",
    "You can open this notebook in another window and run below cell to check trade updates."
   ]
  },
  {
   "cell_type": "code",
   "execution_count": null,
   "metadata": {},
   "outputs": [],
   "source": [
    "# subscribe trade updates\n",
    "trade_stream_client = TradingStream(api_key, secret_key, paper=paper, url_override = trade_api_wss)\n",
    "\n",
    "async def trade_updates_handler(data):\n",
    "    print(data)\n",
    "\n",
    "trade_stream_client.subscribe_trade_updates(trade_updates_handler)\n",
    "trade_stream_client.run()"
   ]
  },
  {
   "cell_type": "markdown",
   "metadata": {},
   "source": [
    "# Market Data (Historical)"
   ]
  },
  {
   "cell_type": "code",
   "execution_count": null,
   "metadata": {},
   "outputs": [],
   "source": [
    "# setup stock historical data client\n",
    "stock_historical_data_client = StockHistoricalDataClient(api_key, secret_key, url_override = data_api_url)"
   ]
  },
  {
   "cell_type": "code",
   "execution_count": null,
   "metadata": {},
   "outputs": [],
   "source": [
    "# get historical bars by symbol\n",
    "# ref. https://docs.alpaca.markets/reference/stockbars-1\n",
    "now = datetime.now(ZoneInfo(\"America/New_York\"))\n",
    "req = StockBarsRequest(\n",
    "    symbol_or_symbols = [symbol],\n",
    "    timeframe=TimeFrame(amount = 1, unit = TimeFrameUnit.Hour), # specify timeframe\n",
    "    start = now - timedelta(days = 5),                          # specify start datetime, default=the beginning of the current day.\n",
    "    # end_date=None,                                        # specify end datetime, default=now\n",
    "    limit = 2,                                               # specify limit\n",
    ")\n",
    "stock_historical_data_client.get_stock_bars(req).df"
   ]
  },
  {
   "cell_type": "code",
   "execution_count": null,
   "metadata": {},
   "outputs": [],
   "source": [
    "# get historical trades by symbol\n",
    "req = StockTradesRequest(\n",
    "    symbol_or_symbols = [symbol],\n",
    "    start = now - timedelta(days = 5),                          # specify start datetime, default=the beginning of the current day.\n",
    "    # end=None,                                             # specify end datetime, default=now\n",
    "    limit = 2,                                                # specify limit\n",
    ")\n",
    "stock_historical_data_client.get_stock_trades(req).df"
   ]
  },
  {
   "cell_type": "code",
   "execution_count": null,
   "metadata": {},
   "outputs": [],
   "source": [
    "# get historical quotes by symbol\n",
    "req = StockQuotesRequest(\n",
    "    symbol_or_symbols = [symbol],\n",
    "    start = now - timedelta(days = 5),                      # specify start datetime, default=the beginning of the current day.\n",
    "    # end=None,                                             # specify end datetime, default=now\n",
    "    limit = 2,                                              # specify limit\n",
    ")\n",
    "stock_historical_data_client.get_stock_quotes(req).df"
   ]
  },
  {
   "cell_type": "code",
   "execution_count": null,
   "metadata": {},
   "outputs": [],
   "source": [
    "# get latest quotes by symbol\n",
    "req = StockQuotesRequest(\n",
    "    symbol_or_symbols = [symbol],\n",
    ")\n",
    "res = stock_historical_data_client.get_stock_latest_quote(req)\n",
    "res"
   ]
  },
  {
   "cell_type": "markdown",
   "metadata": {},
   "source": [
    "# Market Data (Stream)"
   ]
  },
  {
   "cell_type": "code",
   "execution_count": null,
   "metadata": {},
   "outputs": [],
   "source": [
    "stock_data_stream_client = StockDataStream(api_key, secret_key, url_override = stream_data_wss)\n",
    "\n",
    "async def stock_data_stream_handler(data):\n",
    "    print(data)\n",
    "\n",
    "symbols = [symbol]\n",
    "\n",
    "stock_data_stream_client.subscribe_quotes(stock_data_stream_handler, *symbols)\n",
    "stock_data_stream_client.subscribe_trades(stock_data_stream_handler, *symbols)\n",
    "\n",
    "stock_data_stream_client.run()"
   ]
  },
  {
   "cell_type": "markdown",
   "metadata": {},
   "source": [
    "# Corporate actions"
   ]
  },
  {
   "cell_type": "code",
   "execution_count": null,
   "metadata": {},
   "outputs": [],
   "source": [
    "corporate_actions_client = CorporateActionsClient(api_key, secret_key)\n",
    "corporate_actions_client.get_corporate_actions(CorporateActionsRequest(\n",
    "    start=datetime(2020, 1, 1),\n",
    "    symbols=[symbol]\n",
    ")).df"
   ]
  }
 ],
 "metadata": {
  "kernelspec": {
   "display_name": "ml_hw4",
   "language": "python",
   "name": "python3"
  },
  "language_info": {
   "codemirror_mode": {
    "name": "ipython",
    "version": 3
   },
   "file_extension": ".py",
   "mimetype": "text/x-python",
   "name": "python",
   "nbconvert_exporter": "python",
   "pygments_lexer": "ipython3",
   "version": "3.11.10"
  }
 },
 "nbformat": 4,
 "nbformat_minor": 2
}
